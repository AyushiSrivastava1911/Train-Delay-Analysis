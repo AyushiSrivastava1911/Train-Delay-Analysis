{
 "cells": [
  {
   "cell_type": "code",
   "execution_count": 3,
   "id": "bda86166",
   "metadata": {},
   "outputs": [
    {
     "name": "stdout",
     "output_type": "stream",
     "text": [
      "Requirement already satisfied: pandas in c:\\users\\ayush\\appdata\\local\\programs\\python\\python313\\lib\\site-packages (2.3.1)\n",
      "Requirement already satisfied: matplotlib in c:\\users\\ayush\\appdata\\local\\programs\\python\\python313\\lib\\site-packages (3.10.3)\n",
      "Requirement already satisfied: numpy>=1.26.0 in c:\\users\\ayush\\appdata\\local\\programs\\python\\python313\\lib\\site-packages (from pandas) (2.3.1)\n",
      "Requirement already satisfied: python-dateutil>=2.8.2 in c:\\users\\ayush\\appdata\\roaming\\python\\python313\\site-packages (from pandas) (2.9.0.post0)\n",
      "Requirement already satisfied: pytz>=2020.1 in c:\\users\\ayush\\appdata\\local\\programs\\python\\python313\\lib\\site-packages (from pandas) (2025.2)\n",
      "Requirement already satisfied: tzdata>=2022.7 in c:\\users\\ayush\\appdata\\local\\programs\\python\\python313\\lib\\site-packages (from pandas) (2025.2)\n",
      "Requirement already satisfied: contourpy>=1.0.1 in c:\\users\\ayush\\appdata\\local\\programs\\python\\python313\\lib\\site-packages (from matplotlib) (1.3.3)\n",
      "Requirement already satisfied: cycler>=0.10 in c:\\users\\ayush\\appdata\\local\\programs\\python\\python313\\lib\\site-packages (from matplotlib) (0.12.1)\n",
      "Requirement already satisfied: fonttools>=4.22.0 in c:\\users\\ayush\\appdata\\local\\programs\\python\\python313\\lib\\site-packages (from matplotlib) (4.59.0)\n",
      "Requirement already satisfied: kiwisolver>=1.3.1 in c:\\users\\ayush\\appdata\\local\\programs\\python\\python313\\lib\\site-packages (from matplotlib) (1.4.8)\n",
      "Requirement already satisfied: packaging>=20.0 in c:\\users\\ayush\\appdata\\roaming\\python\\python313\\site-packages (from matplotlib) (25.0)\n",
      "Requirement already satisfied: pillow>=8 in c:\\users\\ayush\\appdata\\local\\programs\\python\\python313\\lib\\site-packages (from matplotlib) (11.3.0)\n",
      "Requirement already satisfied: pyparsing>=2.3.1 in c:\\users\\ayush\\appdata\\local\\programs\\python\\python313\\lib\\site-packages (from matplotlib) (3.2.3)\n",
      "Requirement already satisfied: six>=1.5 in c:\\users\\ayush\\appdata\\roaming\\python\\python313\\site-packages (from python-dateutil>=2.8.2->pandas) (1.17.0)\n",
      "Note: you may need to restart the kernel to use updated packages.\n"
     ]
    },
    {
     "name": "stderr",
     "output_type": "stream",
     "text": [
      "\n",
      "[notice] A new release of pip is available: 25.0.1 -> 25.2\n",
      "[notice] To update, run: python.exe -m pip install --upgrade pip\n"
     ]
    }
   ],
   "source": [
    "pip install pandas matplotlib\n"
   ]
  },
  {
   "cell_type": "code",
   "execution_count": 4,
   "id": "1292b1b9",
   "metadata": {},
   "outputs": [
    {
     "name": "stdout",
     "output_type": "stream",
     "text": [
      "   Distance Between Stations (km) Weather Conditions Day of the Week  \\\n",
      "0                             100              Clear          Monday   \n",
      "1                             150              Rainy         Tuesday   \n",
      "2                             200              Foggy       Wednesday   \n",
      "3                              50              Clear        Thursday   \n",
      "4                              75              Rainy          Friday   \n",
      "\n",
      "  Time of Day Train Type  Historical Delay (min) Route Congestion  \n",
      "0     Morning    Express                       5              Low  \n",
      "1   Afternoon  Superfast                      10           Medium  \n",
      "2     Evening      Local                      15             High  \n",
      "3       Night    Express                       2              Low  \n",
      "4     Morning  Superfast                       8           Medium  \n"
     ]
    }
   ],
   "source": [
    "import pandas as pd\n",
    "df=pd.read_csv(\"C:\\\\Users\\\\ayush\\\\Downloads\\\\archive (5)\\\\train delay data.csv\")\n",
    "print(df.head())\n"
   ]
  },
  {
   "cell_type": "code",
   "execution_count": 5,
   "id": "eae61b69",
   "metadata": {},
   "outputs": [
    {
     "name": "stdout",
     "output_type": "stream",
     "text": [
      "<class 'pandas.core.frame.DataFrame'>\n",
      "RangeIndex: 2878 entries, 0 to 2877\n",
      "Data columns (total 7 columns):\n",
      " #   Column                          Non-Null Count  Dtype \n",
      "---  ------                          --------------  ----- \n",
      " 0   Distance Between Stations (km)  2878 non-null   int64 \n",
      " 1   Weather Conditions              2878 non-null   object\n",
      " 2   Day of the Week                 2878 non-null   object\n",
      " 3   Time of Day                     2878 non-null   object\n",
      " 4   Train Type                      2878 non-null   object\n",
      " 5   Historical Delay (min)          2878 non-null   int64 \n",
      " 6   Route Congestion                2878 non-null   object\n",
      "dtypes: int64(2), object(5)\n",
      "memory usage: 157.5+ KB\n",
      "None\n",
      "Distance Between Stations (km)    0\n",
      "Weather Conditions                0\n",
      "Day of the Week                   0\n",
      "Time of Day                       0\n",
      "Train Type                        0\n",
      "Historical Delay (min)            0\n",
      "Route Congestion                  0\n",
      "dtype: int64\n",
      "   Distance Between Stations (km) Weather Conditions Day of the Week  \\\n",
      "0                             100              Clear          Monday   \n",
      "1                             150              Rainy         Tuesday   \n",
      "2                             200              Foggy       Wednesday   \n",
      "3                              50              Clear        Thursday   \n",
      "4                              75              Rainy          Friday   \n",
      "\n",
      "  Time of Day Train Type  Delay Route Congestion  \n",
      "0     Morning    Express      5              Low  \n",
      "1   Afternoon  Superfast     10           Medium  \n",
      "2     Evening      Local     15             High  \n",
      "3       Night    Express      2              Low  \n",
      "4     Morning  Superfast      8           Medium  \n"
     ]
    },
    {
     "data": {
      "text/html": [
       "<div>\n",
       "<style scoped>\n",
       "    .dataframe tbody tr th:only-of-type {\n",
       "        vertical-align: middle;\n",
       "    }\n",
       "\n",
       "    .dataframe tbody tr th {\n",
       "        vertical-align: top;\n",
       "    }\n",
       "\n",
       "    .dataframe thead th {\n",
       "        text-align: right;\n",
       "    }\n",
       "</style>\n",
       "<table border=\"1\" class=\"dataframe\">\n",
       "  <thead>\n",
       "    <tr style=\"text-align: right;\">\n",
       "      <th></th>\n",
       "      <th>Distance Between Stations (km)</th>\n",
       "      <th>Weather Conditions</th>\n",
       "      <th>Day of the Week</th>\n",
       "      <th>Time of Day</th>\n",
       "      <th>Train Type</th>\n",
       "      <th>Delay</th>\n",
       "      <th>Route Congestion</th>\n",
       "    </tr>\n",
       "  </thead>\n",
       "  <tbody>\n",
       "    <tr>\n",
       "      <th>0</th>\n",
       "      <td>100</td>\n",
       "      <td>Clear</td>\n",
       "      <td>Monday</td>\n",
       "      <td>Morning</td>\n",
       "      <td>Express</td>\n",
       "      <td>5</td>\n",
       "      <td>Low</td>\n",
       "    </tr>\n",
       "    <tr>\n",
       "      <th>1</th>\n",
       "      <td>150</td>\n",
       "      <td>Rainy</td>\n",
       "      <td>Tuesday</td>\n",
       "      <td>Afternoon</td>\n",
       "      <td>Superfast</td>\n",
       "      <td>10</td>\n",
       "      <td>Medium</td>\n",
       "    </tr>\n",
       "    <tr>\n",
       "      <th>2</th>\n",
       "      <td>200</td>\n",
       "      <td>Foggy</td>\n",
       "      <td>Wednesday</td>\n",
       "      <td>Evening</td>\n",
       "      <td>Local</td>\n",
       "      <td>15</td>\n",
       "      <td>High</td>\n",
       "    </tr>\n",
       "    <tr>\n",
       "      <th>3</th>\n",
       "      <td>50</td>\n",
       "      <td>Clear</td>\n",
       "      <td>Thursday</td>\n",
       "      <td>Night</td>\n",
       "      <td>Express</td>\n",
       "      <td>2</td>\n",
       "      <td>Low</td>\n",
       "    </tr>\n",
       "    <tr>\n",
       "      <th>4</th>\n",
       "      <td>75</td>\n",
       "      <td>Rainy</td>\n",
       "      <td>Friday</td>\n",
       "      <td>Morning</td>\n",
       "      <td>Superfast</td>\n",
       "      <td>8</td>\n",
       "      <td>Medium</td>\n",
       "    </tr>\n",
       "  </tbody>\n",
       "</table>\n",
       "</div>"
      ],
      "text/plain": [
       "   Distance Between Stations (km) Weather Conditions Day of the Week  \\\n",
       "0                             100              Clear          Monday   \n",
       "1                             150              Rainy         Tuesday   \n",
       "2                             200              Foggy       Wednesday   \n",
       "3                              50              Clear        Thursday   \n",
       "4                              75              Rainy          Friday   \n",
       "\n",
       "  Time of Day Train Type  Delay Route Congestion  \n",
       "0     Morning    Express      5              Low  \n",
       "1   Afternoon  Superfast     10           Medium  \n",
       "2     Evening      Local     15             High  \n",
       "3       Night    Express      2              Low  \n",
       "4     Morning  Superfast      8           Medium  "
      ]
     },
     "execution_count": 5,
     "metadata": {},
     "output_type": "execute_result"
    }
   ],
   "source": [
    "print(df.info())\n",
    "print(df.isnull().sum())\n",
    "df.rename(columns={'Historical Delay (min)':'Delay'},inplace=True)\n",
    "df.columns=df.columns.str.strip()\n",
    "\n",
    "df['Delay']=pd.to_numeric(df['Delay'],errors='coerce').fillna(0)\n",
    "df=df.drop_duplicates()\n",
    "df.loc[df['Delay']<0,'Delay']=0\n",
    "\n",
    "df.to_csv(\"train_delay_cleaned.csv\",index=False)\n",
    "print(df.head())\n",
    "\n",
    "import os\n",
    "os.listdir()\n",
    "df_clean = pd.read_csv(\"train_delay_cleaned.csv\")\n",
    "df_clean.head()\n",
    "\n"
   ]
  },
  {
   "cell_type": "code",
   "execution_count": 6,
   "id": "e726fc94",
   "metadata": {},
   "outputs": [
    {
     "name": "stdout",
     "output_type": "stream",
     "text": [
      "c:\\Users\\ayush\\Downloads\n"
     ]
    }
   ],
   "source": [
    "import os\n",
    "print(os.getcwd())\n"
   ]
  },
  {
   "cell_type": "code",
   "execution_count": 7,
   "id": "7a23a54b",
   "metadata": {},
   "outputs": [
    {
     "name": "stdout",
     "output_type": "stream",
     "text": [
      "Current folder: c:\\Users\\ayush\\Downloads\n",
      "Files here ['10-powerful-ways-to-clean-data-in-Excel-demo.xlsx', 'ac-sample.xlsx', 'archive (1).zip', 'archive (2).zip', 'archive (3)', 'archive (3).zip', 'archive (5)', 'archive (5).zip', 'archive.zip', 'August-2021.xlsx', 'awesome-clinics-log.xlsx', 'BraveBrowserSetup-BRV010.exe', 'ch1(bi).xlsx', 'ch2 extra.xlsx', 'ch2.xlsx', 'ch3.xlsx', 'ch3ansdata.xlsx', 'ChatGPT Image Jun 19, 2025, 11_20_48 PM.png', 'ChromeSetup.exe', 'combine-files-pq.zip', 'da CERTIF.pdf', 'data clean excel.xlsx', 'db.pbix', 'desktop.ini', 'excel_practice_dataset.xlsx', 'Food_Delivery_Analysis.pbix', 'Food_Delivery_Pivot_Analysis.xlsx', 'getting started with dax-full.pbix', 'getting started with dax.pbix', 'July-2021.xlsx', 'mysql-9.2.0-winx64.msi', 'mysql-connector-net-9.4.0.msi', 'mysql-connector-odbc-9.4.0-winx64 (1).msi', 'mysql-connector-odbc-9.4.0-winx64.msi', 'mysql-installer-web-community-8.0.41.0.msi', 'mysql-workbench-community-8.0.41-winx64.msi', 'netflix_titles.csv', 'October-2021.xlsx', 'pbi.pbix', 'Project Food.xlsx', 'python-3.13.3-amd64.exe', 'sample-data-pivots-blank.xlsx', 'September-2021.xlsx', 'ss2.png', 'train_delay_analysis.sql', 'train_delay_cleaned.csv', 'train_delay_cleaning.ipynb', 'train_delay_dash1.pbix', 'VC_redist.x64.exe', 'VSCodeUserSetup-x64-1.99.3.exe']\n"
     ]
    }
   ],
   "source": [
    "import os\n",
    "print(\"Current folder:\",os.getcwd())\n",
    "print(\"Files here\",os.listdir())\n",
    "\n",
    "df.to_csv(r\"C:\\\\Users\\\\ayush\\\\Downloads\\\\train_delay_cleaned.csv\",index=False)\n"
   ]
  },
  {
   "cell_type": "code",
   "execution_count": 17,
   "id": "fd5ff80d",
   "metadata": {},
   "outputs": [
    {
     "name": "stdout",
     "output_type": "stream",
     "text": [
      "Most Delayed Train: Superfast | Number of Delays: 97133\n"
     ]
    },
    {
     "data": {
      "image/png": "[encoded data removed]",
      "text/plain": [
       "<Figure size 640x480 with 1 Axes>"
      ]
     },
     "metadata": {},
     "output_type": "display_data"
    }
   ],
   "source": [
    "# Find the most delayed train\n",
    "most_delayed_train = train_delay_count.idxmax()\n",
    "delay_count = train_delay_count.max()\n",
    "\n",
    "# Print result\n",
    "print(\"Most Delayed Train:\", most_delayed_train, \"| Number of Delays:\", delay_count)\n",
    "\n",
    "# Plot bar chart\n",
    "plt.bar(most_delayed_train, delay_count, color='skyblue')\n",
    "plt.title(\"Most Delayed Train\")\n",
    "plt.xlabel(\"Train Type\")\n",
    "plt.ylabel(\"Number of Delays\")\n",
    "\n",
    "# Show value on top of the bar\n",
    "plt.text(most_delayed_train, delay_count, str(delay_count), ha='center', va='bottom')\n",
    "\n",
    "plt.show()\n"
   ]
  },
  {
   "cell_type": "code",
   "execution_count": 18,
   "id": "e2de7e3b",
   "metadata": {},
   "outputs": [
    {
     "name": "stdout",
     "output_type": "stream",
     "text": [
      "Rows before cleaning: 2456\n",
      "Rows after cleaning: 2456\n"
     ]
    }
   ],
   "source": [
    "# 1. Check total rows\n",
    "print(\"Rows before cleaning:\", df.shape[0])\n",
    "\n",
    "# 2. Drop duplicates\n",
    "df = df.drop_duplicates()\n",
    "\n",
    "# 3. Drop completely empty rows (all columns NaN)\n",
    "df = df.dropna(how='all')\n",
    "\n",
    "# 4. Drop rows where important columns (like Train Name or Delay) are missing\n",
    "df = df.dropna(subset=['Train Type', 'Delay'])   # change column names if different\n",
    "\n",
    "# 5. Reset index\n",
    "df = df.reset_index(drop=True)\n",
    "\n",
    "# 6. Check final rows\n",
    "print(\"Rows after cleaning:\", df.shape[0])\n"
   ]
  },
  {
   "cell_type": "markdown",
   "id": "aa31213c",
   "metadata": {},
   "source": [
    "### Explanation  \n",
    "The raw dataset had **2,879 rows**.  \n",
    "After cleaning (removing duplicates, blanks, and missing values), it was reduced to **2,456 rows**.  \n",
    "This ensures only accurate data is used for analysis.  \n",
    "The results showed that the **Superfast train** had the highest delays, with a total of **97,133 delays**."
   ]
  }
 ],
 "metadata": {
  "kernelspec": {
   "display_name": "Python 3",
   "language": "python",
   "name": "python3"
  },
  "language_info": {
   "codemirror_mode": {
    "name": "ipython",
    "version": 3
   },
   "file_extension": ".py",
   "mimetype": "text/x-python",
   "name": "python",
   "nbconvert_exporter": "python",
   "pygments_lexer": "ipython3",
   "version": "3.13.3"
  }
 },
 "nbformat": 4,
 "nbformat_minor": 5
}
